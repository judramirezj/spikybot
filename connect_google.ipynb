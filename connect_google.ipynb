{
 "cells": [
  {
   "cell_type": "code",
   "execution_count": 8,
   "metadata": {},
   "outputs": [
    {
     "data": {
      "text/plain": [
       "True"
      ]
     },
     "execution_count": 8,
     "metadata": {},
     "output_type": "execute_result"
    }
   ],
   "source": [
    "from dotenv import load_dotenv\n",
    "load_dotenv()"
   ]
  },
  {
   "cell_type": "code",
   "execution_count": 9,
   "metadata": {},
   "outputs": [
    {
     "name": "stdout",
     "output_type": "stream",
     "text": [
      "An error occurred: <HttpError 403 when requesting https://sheets.googleapis.com/v4/spreadsheets/1B_tx8gGzLrnCuTsNpFfS3kG-QmsahuLs71Jw8U2L8VQ/values/A1%3AC2?valueInputOption=USER_ENTERED&alt=json returned \"Request had insufficient authentication scopes.\". Details: \"[{'@type': 'type.googleapis.com/google.rpc.ErrorInfo', 'reason': 'ACCESS_TOKEN_SCOPE_INSUFFICIENT', 'domain': 'googleapis.com', 'metadata': {'method': 'google.apps.sheets.v4.SpreadsheetsService.UpdateValues', 'service': 'sheets.googleapis.com'}}]\">\n"
     ]
    }
   ],
   "source": [
    "import google.auth\n",
    "from googleapiclient.discovery import build\n",
    "from googleapiclient.errors import HttpError\n",
    "\n",
    "\n",
    "def update_values(spreadsheet_id, range_name, value_input_option, _values):\n",
    "  \"\"\"\n",
    "  Creates the batch_update the user has access to.\n",
    "  Load pre-authorized user credentials from the environment.\n",
    "  TODO(developer) - See https://developers.google.com/identity\n",
    "  for guides on implementing OAuth2 for the application.\n",
    "  \"\"\"\n",
    "  creds, _ = google.auth.default()\n",
    "  # pylint: disable=maybe-no-member\n",
    "  try:\n",
    "    service = build(\"sheets\", \"v4\", credentials=creds)\n",
    "    values = [\n",
    "        [\n",
    "            # Cell values ...\n",
    "        ],\n",
    "        # Additional rows ...\n",
    "    ]\n",
    "    body = {\"values\": values}\n",
    "    result = (\n",
    "        service.spreadsheets()\n",
    "        .values()\n",
    "        .update(\n",
    "            spreadsheetId=spreadsheet_id,\n",
    "            range=range_name,\n",
    "            valueInputOption=value_input_option,\n",
    "            body=body,\n",
    "        )\n",
    "        .execute()\n",
    "    )\n",
    "    print(f\"{result.get('updatedCells')} cells updated.\")\n",
    "    return result\n",
    "  except HttpError as error:\n",
    "    print(f\"An error occurred: {error}\")\n",
    "    return error\n",
    "\n",
    "\n",
    "if __name__ == \"__main__\":\n",
    "  # Pass: spreadsheet_id,  range_name, value_input_option and  _values\n",
    "  update_values(\n",
    "      \"1B_tx8gGzLrnCuTsNpFfS3kG-QmsahuLs71Jw8U2L8VQ\",\n",
    "      \"A1:C2\",\n",
    "      \"USER_ENTERED\",\n",
    "      [[\"A\", \"B\"], [\"C\", \"D\"]],\n",
    "  )"
   ]
  },
  {
   "cell_type": "code",
   "execution_count": 7,
   "metadata": {},
   "outputs": [
    {
     "ename": "NameError",
     "evalue": "name 'GOOGLE_API_KEY' is not defined",
     "output_type": "error",
     "traceback": [
      "\u001b[0;31m---------------------------------------------------------------------------\u001b[0m",
      "\u001b[0;31mNameError\u001b[0m                                 Traceback (most recent call last)",
      "Cell \u001b[0;32mIn[7], line 35\u001b[0m\n\u001b[1;32m     31\u001b[0m         \u001b[39mreturn\u001b[39;00m error\n\u001b[1;32m     33\u001b[0m \u001b[39mif\u001b[39;00m \u001b[39m__name__\u001b[39m \u001b[39m==\u001b[39m \u001b[39m\"\u001b[39m\u001b[39m__main__\u001b[39m\u001b[39m\"\u001b[39m:\n\u001b[1;32m     34\u001b[0m     \u001b[39m# Replace 'YOUR_API_KEY' with your actual API key\u001b[39;00m\n\u001b[0;32m---> 35\u001b[0m     api_key \u001b[39m=\u001b[39m GOOGLE_API_KEY\n\u001b[1;32m     37\u001b[0m     \u001b[39m# Pass: spreadsheet_id, range_name, value_input_option and _values\u001b[39;00m\n\u001b[1;32m     38\u001b[0m     update_values(\n\u001b[1;32m     39\u001b[0m         \u001b[39m\"\u001b[39m\u001b[39m1B_tx8gGzLrnCuTsNpFfS3kG-QmsahuLs71Jw8U2L8VQ\u001b[39m\u001b[39m\"\u001b[39m,\n\u001b[1;32m     40\u001b[0m         \u001b[39m\"\u001b[39m\u001b[39mA1:C2\u001b[39m\u001b[39m\"\u001b[39m,\n\u001b[0;32m   (...)\u001b[0m\n\u001b[1;32m     43\u001b[0m         api_key\n\u001b[1;32m     44\u001b[0m     )\n",
      "\u001b[0;31mNameError\u001b[0m: name 'GOOGLE_API_KEY' is not defined"
     ]
    }
   ],
   "source": [
    "from googleapiclient.discovery import build\n",
    "from googleapiclient.errors import HttpError\n",
    "\n",
    "def update_values(spreadsheet_id, range_name, value_input_option, _values, api_key):\n",
    "    \"\"\"\n",
    "    Updates values in a Google Sheet using API key authentication.\n",
    "    \"\"\"\n",
    "    try:\n",
    "        service = build('sheets', 'v4', developerKey=api_key)\n",
    "\n",
    "        # Prepare values to update\n",
    "        values = _values  # Replace with actual data to update\n",
    "        body = {\"values\": values}\n",
    "\n",
    "        # Execute the update operation\n",
    "        result = service.spreadsheets().values().update(\n",
    "            spreadsheetId=spreadsheet_id,\n",
    "            range=range_name,\n",
    "            valueInputOption=value_input_option,\n",
    "            body=body\n",
    "        ).execute()\n",
    "\n",
    "        print(f\"{result.get('updatedCells')} cells updated.\")\n",
    "        return result\n",
    "\n",
    "    except HttpError as error:\n",
    "        print(f\"An error occurred: {error}\")\n",
    "        return error\n",
    "    except Exception as error:\n",
    "        print(f\"Unexpected error: {error}\")\n",
    "        return error\n",
    "\n",
    "if __name__ == \"__main__\":\n",
    "    # Replace 'YOUR_API_KEY' with your actual API key\n",
    "    api_key = GOOGLE_API_KEY\n",
    "\n",
    "    # Pass: spreadsheet_id, range_name, value_input_option and _values\n",
    "    update_values(\n",
    "        \"1B_tx8gGzLrnCuTsNpFfS3kG-QmsahuLs71Jw8U2L8VQ\",\n",
    "        \"A1:C2\",\n",
    "        \"USER_ENTERED\",\n",
    "        [[\"A\", \"B\"], [\"C\", \"D\"]],\n",
    "        api_key\n",
    "    )\n"
   ]
  }
 ],
 "metadata": {
  "kernelspec": {
   "display_name": "env",
   "language": "python",
   "name": "python3"
  },
  "language_info": {
   "codemirror_mode": {
    "name": "ipython",
    "version": 3
   },
   "file_extension": ".py",
   "mimetype": "text/x-python",
   "name": "python",
   "nbconvert_exporter": "python",
   "pygments_lexer": "ipython3",
   "version": "3.11.5"
  },
  "orig_nbformat": 4
 },
 "nbformat": 4,
 "nbformat_minor": 2
}
