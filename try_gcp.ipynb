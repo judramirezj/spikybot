{
 "cells": [
  {
   "cell_type": "code",
   "execution_count": 3,
   "metadata": {},
   "outputs": [
    {
     "ename": "RefreshError",
     "evalue": "('invalid_grant: Token has been expired or revoked.', {'error': 'invalid_grant', 'error_description': 'Token has been expired or revoked.'})",
     "output_type": "error",
     "traceback": [
      "\u001b[0;31m---------------------------------------------------------------------------\u001b[0m",
      "\u001b[0;31mRefreshError\u001b[0m                              Traceback (most recent call last)",
      "Cell \u001b[0;32mIn[3], line 39\u001b[0m\n\u001b[1;32m     36\u001b[0m         \u001b[39mprint\u001b[39m(error)\n\u001b[1;32m     38\u001b[0m \u001b[39mif\u001b[39;00m \u001b[39m__name__\u001b[39m \u001b[39m==\u001b[39m \u001b[39m\"\u001b[39m\u001b[39m__main__\u001b[39m\u001b[39m\"\u001b[39m:\n\u001b[0;32m---> 39\u001b[0m     main()\n",
      "Cell \u001b[0;32mIn[3], line 15\u001b[0m, in \u001b[0;36mmain\u001b[0;34m()\u001b[0m\n\u001b[1;32m     13\u001b[0m \u001b[39mif\u001b[39;00m \u001b[39mnot\u001b[39;00m credentials \u001b[39mor\u001b[39;00m \u001b[39mnot\u001b[39;00m credentials\u001b[39m.\u001b[39mvalid:\n\u001b[1;32m     14\u001b[0m     \u001b[39mif\u001b[39;00m credentials \u001b[39mand\u001b[39;00m credentials\u001b[39m.\u001b[39mexpired \u001b[39mand\u001b[39;00m credentials\u001b[39m.\u001b[39mrefresh_token:\n\u001b[0;32m---> 15\u001b[0m         credentials\u001b[39m.\u001b[39;49mrefresh(Request())\n\u001b[1;32m     16\u001b[0m     \u001b[39melse\u001b[39;00m:\n\u001b[1;32m     17\u001b[0m         flow \u001b[39m=\u001b[39m InstalledAppFlow\u001b[39m.\u001b[39mfrom_client_secrets_file(\u001b[39m\"\u001b[39m\u001b[39mcredentials.json\u001b[39m\u001b[39m\"\u001b[39m, SCOPES)\n",
      "File \u001b[0;32m~/Documents/spikybot/env/lib/python3.11/site-packages/google/oauth2/credentials.py:431\u001b[0m, in \u001b[0;36mCredentials.refresh\u001b[0;34m(self, request)\u001b[0m\n\u001b[1;32m    413\u001b[0m \u001b[39mif\u001b[39;00m (\n\u001b[1;32m    414\u001b[0m     \u001b[39mself\u001b[39m\u001b[39m.\u001b[39m_refresh_token \u001b[39mis\u001b[39;00m \u001b[39mNone\u001b[39;00m\n\u001b[1;32m    415\u001b[0m     \u001b[39mor\u001b[39;00m \u001b[39mself\u001b[39m\u001b[39m.\u001b[39m_token_uri \u001b[39mis\u001b[39;00m \u001b[39mNone\u001b[39;00m\n\u001b[1;32m    416\u001b[0m     \u001b[39mor\u001b[39;00m \u001b[39mself\u001b[39m\u001b[39m.\u001b[39m_client_id \u001b[39mis\u001b[39;00m \u001b[39mNone\u001b[39;00m\n\u001b[1;32m    417\u001b[0m     \u001b[39mor\u001b[39;00m \u001b[39mself\u001b[39m\u001b[39m.\u001b[39m_client_secret \u001b[39mis\u001b[39;00m \u001b[39mNone\u001b[39;00m\n\u001b[1;32m    418\u001b[0m ):\n\u001b[1;32m    419\u001b[0m     \u001b[39mraise\u001b[39;00m exceptions\u001b[39m.\u001b[39mRefreshError(\n\u001b[1;32m    420\u001b[0m         \u001b[39m\"\u001b[39m\u001b[39mThe credentials do not contain the necessary fields need to \u001b[39m\u001b[39m\"\u001b[39m\n\u001b[1;32m    421\u001b[0m         \u001b[39m\"\u001b[39m\u001b[39mrefresh the access token. You must specify refresh_token, \u001b[39m\u001b[39m\"\u001b[39m\n\u001b[1;32m    422\u001b[0m         \u001b[39m\"\u001b[39m\u001b[39mtoken_uri, client_id, and client_secret.\u001b[39m\u001b[39m\"\u001b[39m\n\u001b[1;32m    423\u001b[0m     )\n\u001b[1;32m    425\u001b[0m (\n\u001b[1;32m    426\u001b[0m     access_token,\n\u001b[1;32m    427\u001b[0m     refresh_token,\n\u001b[1;32m    428\u001b[0m     expiry,\n\u001b[1;32m    429\u001b[0m     grant_response,\n\u001b[1;32m    430\u001b[0m     rapt_token,\n\u001b[0;32m--> 431\u001b[0m ) \u001b[39m=\u001b[39m reauth\u001b[39m.\u001b[39;49mrefresh_grant(\n\u001b[1;32m    432\u001b[0m     request,\n\u001b[1;32m    433\u001b[0m     \u001b[39mself\u001b[39;49m\u001b[39m.\u001b[39;49m_token_uri,\n\u001b[1;32m    434\u001b[0m     \u001b[39mself\u001b[39;49m\u001b[39m.\u001b[39;49m_refresh_token,\n\u001b[1;32m    435\u001b[0m     \u001b[39mself\u001b[39;49m\u001b[39m.\u001b[39;49m_client_id,\n\u001b[1;32m    436\u001b[0m     \u001b[39mself\u001b[39;49m\u001b[39m.\u001b[39;49m_client_secret,\n\u001b[1;32m    437\u001b[0m     scopes\u001b[39m=\u001b[39;49mscopes,\n\u001b[1;32m    438\u001b[0m     rapt_token\u001b[39m=\u001b[39;49m\u001b[39mself\u001b[39;49m\u001b[39m.\u001b[39;49m_rapt_token,\n\u001b[1;32m    439\u001b[0m     enable_reauth_refresh\u001b[39m=\u001b[39;49m\u001b[39mself\u001b[39;49m\u001b[39m.\u001b[39;49m_enable_reauth_refresh,\n\u001b[1;32m    440\u001b[0m )\n\u001b[1;32m    442\u001b[0m \u001b[39mself\u001b[39m\u001b[39m.\u001b[39mtoken \u001b[39m=\u001b[39m access_token\n\u001b[1;32m    443\u001b[0m \u001b[39mself\u001b[39m\u001b[39m.\u001b[39mexpiry \u001b[39m=\u001b[39m expiry\n",
      "File \u001b[0;32m~/Documents/spikybot/env/lib/python3.11/site-packages/google/oauth2/reauth.py:366\u001b[0m, in \u001b[0;36mrefresh_grant\u001b[0;34m(request, token_uri, refresh_token, client_id, client_secret, scopes, rapt_token, enable_reauth_refresh)\u001b[0m\n\u001b[1;32m    357\u001b[0m     (\n\u001b[1;32m    358\u001b[0m         response_status_ok,\n\u001b[1;32m    359\u001b[0m         response_data,\n\u001b[0;32m   (...)\u001b[0m\n\u001b[1;32m    362\u001b[0m         request, token_uri, body, headers\u001b[39m=\u001b[39mmetrics_header\n\u001b[1;32m    363\u001b[0m     )\n\u001b[1;32m    365\u001b[0m \u001b[39mif\u001b[39;00m \u001b[39mnot\u001b[39;00m response_status_ok:\n\u001b[0;32m--> 366\u001b[0m     _client\u001b[39m.\u001b[39;49m_handle_error_response(response_data, retryable_error)\n\u001b[1;32m    367\u001b[0m \u001b[39mreturn\u001b[39;00m _client\u001b[39m.\u001b[39m_handle_refresh_grant_response(response_data, refresh_token) \u001b[39m+\u001b[39m (\n\u001b[1;32m    368\u001b[0m     rapt_token,\n\u001b[1;32m    369\u001b[0m )\n",
      "File \u001b[0;32m~/Documents/spikybot/env/lib/python3.11/site-packages/google/oauth2/_client.py:68\u001b[0m, in \u001b[0;36m_handle_error_response\u001b[0;34m(response_data, retryable_error)\u001b[0m\n\u001b[1;32m     65\u001b[0m \u001b[39mexcept\u001b[39;00m (\u001b[39mKeyError\u001b[39;00m, \u001b[39mValueError\u001b[39;00m):\n\u001b[1;32m     66\u001b[0m     error_details \u001b[39m=\u001b[39m json\u001b[39m.\u001b[39mdumps(response_data)\n\u001b[0;32m---> 68\u001b[0m \u001b[39mraise\u001b[39;00m exceptions\u001b[39m.\u001b[39mRefreshError(\n\u001b[1;32m     69\u001b[0m     error_details, response_data, retryable\u001b[39m=\u001b[39mretryable_error\n\u001b[1;32m     70\u001b[0m )\n",
      "\u001b[0;31mRefreshError\u001b[0m: ('invalid_grant: Token has been expired or revoked.', {'error': 'invalid_grant', 'error_description': 'Token has been expired or revoked.'})"
     ]
    }
   ],
   "source": [
    "import os\n",
    "from google.auth.transport.requests import Request\n",
    "from google.oauth2.credentials import Credentials\n",
    "from google_auth_oauthlib.flow import InstalledAppFlow\n",
    "from googleapiclient.discovery import build\n",
    "from googleapiclient.errors import HttpError\n",
    "SCOPES = [\"https://www.googleapis.com/auth/spreadsheets\"]\n",
    "SPREADSHEET_ID = \"1B_tx8gGzLrnCuTsNpFfS3kG-QmsahuLs71Jw8U2L8VQ\"\n",
    "def main():\n",
    "    credentials = None\n",
    "    if os.path.exists(\"token.json\"):\n",
    "        credentials = Credentials.from_authorized_user_file(\"token.json\", SCOPES)\n",
    "    if not credentials or not credentials.valid:\n",
    "        if credentials and credentials.expired and credentials.refresh_token:\n",
    "            credentials.refresh(Request())\n",
    "        else:\n",
    "            flow = InstalledAppFlow.from_client_secrets_file(\"credentials.json\", SCOPES)\n",
    "            credentials = flow.run_local_server(port=0)\n",
    "        with open(\"token.json\", \"w\") as token:\n",
    "            token.write(credentials.to_json())\n",
    "\n",
    "    try:\n",
    "        service = build(\"sheets\", \"v4\", credentials=credentials)\n",
    "        sheets = service.spreadsheets()\n",
    "\n",
    "        for row in range(2, 8):\n",
    "            num1 = int(sheets.values().get(spreadsheetId=SPREADSHEET_ID, range=f\"Hoja 1!A{row}\").execute().get(\"values\")[0][0])\n",
    "            num2 = int(sheets.values().get(spreadsheetId=SPREADSHEET_ID, range=f\"Hoja 1!B{row}\").execute().get(\"values\")[0][0])\n",
    "            calculation_result = num1 + num2\n",
    "            print(f\"Processing {num1} + {num2}\")\n",
    "            sheets.values().update(spreadsheetId=SPREADSHEET_ID, range=f\"Hoja 1!C{row}\", valueInputOption=\"USER_ENTERED\", body={\"values\": [[f\"{calculation_result}\"]]}).execute()\n",
    "            sheets.values().update(spreadsheetId=SPREADSHEET_ID, range=f\"Hoja 1!C{row}\", valueInputOption=\"USER_ENTERED\", body={\"values\": [[f\"{calculation_result}\"]]}).execute()\n",
    "\n",
    "\n",
    "    except HttpError as error:\n",
    "        print(error)\n",
    "\n",
    "if __name__ == \"__main__\":\n",
    "    main()\n"
   ]
  },
  {
   "cell_type": "code",
   "execution_count": 35,
   "metadata": {},
   "outputs": [],
   "source": []
  },
  {
   "cell_type": "code",
   "execution_count": 36,
   "metadata": {},
   "outputs": [],
   "source": []
  },
  {
   "cell_type": "code",
   "execution_count": 38,
   "metadata": {},
   "outputs": [],
   "source": [
    "\n",
    "\n",
    "\n",
    "    "
   ]
  },
  {
   "cell_type": "code",
   "execution_count": 39,
   "metadata": {},
   "outputs": [
    {
     "name": "stdout",
     "output_type": "stream",
     "text": [
      "Processing 4325 + 543\n",
      "Processing 43 + 5\n",
      "Processing 5 + 345\n",
      "Processing 43 + 43\n",
      "Processing 543 + 5\n",
      "Processing 435 + 543\n"
     ]
    }
   ],
   "source": []
  }
 ],
 "metadata": {
  "kernelspec": {
   "display_name": "env",
   "language": "python",
   "name": "python3"
  },
  "language_info": {
   "codemirror_mode": {
    "name": "ipython",
    "version": 3
   },
   "file_extension": ".py",
   "mimetype": "text/x-python",
   "name": "python",
   "nbconvert_exporter": "python",
   "pygments_lexer": "ipython3",
   "version": "3.11.5"
  },
  "orig_nbformat": 4
 },
 "nbformat": 4,
 "nbformat_minor": 2
}
