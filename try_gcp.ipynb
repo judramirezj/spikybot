{
 "cells": [
  {
   "cell_type": "code",
   "execution_count": 33,
   "metadata": {},
   "outputs": [],
   "source": [
    "import os\n",
    "from google.auth.transport.requests import Request\n",
    "from google.oauth2.credentials import Credentials\n",
    "from google_auth_oauthlib.flow import InstalledAppFlow\n",
    "from googleapiclient.discovery import build\n",
    "from googleapiclient.errors import HttpError\n",
    "SCOPES = [\"https://www.googleapis.com/auth/spreadsheets\"]\n",
    "SPREADSHEET_ID = \"1B_tx8gGzLrnCuTsNpFfS3kG-QmsahuLs71Jw8U2L8VQ\"\n",
    "def main():\n",
    "    credentials = None\n",
    "    if os.path.exists(\"token.json\"):\n",
    "        credentials = Credentials.from_authorized_user_file(\"token.json\", SCOPES)\n",
    "    if not credentials or not credentials.valid:\n",
    "        if credentials and credentials.expired and credentials.refresh_token:\n",
    "            credentials.refresh(Request())\n",
    "        else:\n",
    "            flow = InstalledAppFlow.from_client_secrets_file(\"credentials.json\", SCOPES)\n",
    "            credentials = flow.run_local_server(port=0)\n",
    "        with open(\"token.json\", \"w\") as token:\n",
    "            token.write(credentials.to_json())\n",
    "\n",
    "    try:\n",
    "        service = build(\"sheets\", \"v4\", credentials=credentials)\n",
    "        sheets = service.spreadsheets()\n",
    "\n",
    "        for row in range(2, 8):\n",
    "            num1 = int(sheets.values().get(spreadsheetId=SPREADSHEET_ID, range=f\"Hoja 1!A{row}\").execute().get(\"values\")[0][0])\n",
    "            num2 = int(sheets.values().get(spreadsheetId=SPREADSHEET_ID, range=f\"Hoja 1!B{row}\").execute().get(\"values\")[0][0])\n",
    "            calculation_result = num1 + num2\n",
    "            print(f\"Processing {num1} + {num2}\")\n",
    "            sheets.values().update(spreadsheetId=SPREADSHEET_ID, range=f\"Hoja 1!C{row}\", valueInputOption=\"USER_ENTERED\", body={\"values\": [[f\"{calculation_result}\"]]}).execute()\n",
    "            sheets.values().update(spreadsheetId=SPREADSHEET_ID, range=f\"Hoja 1!C{row}\", valueInputOption=\"USER_ENTERED\", body={\"values\": [[f\"{calculation_result}\"]]}).execute()\n",
    "\n",
    "\n",
    "    except HttpError as error:\n",
    "        print(error)\n",
    "\n",
    "if __name__ == \"__main__\":\n",
    "    main()\n"
   ]
  },
  {
   "cell_type": "code",
   "execution_count": 35,
   "metadata": {},
   "outputs": [],
   "source": []
  },
  {
   "cell_type": "code",
   "execution_count": 36,
   "metadata": {},
   "outputs": [],
   "source": []
  },
  {
   "cell_type": "code",
   "execution_count": 38,
   "metadata": {},
   "outputs": [],
   "source": [
    "\n",
    "\n",
    "\n",
    "    "
   ]
  },
  {
   "cell_type": "code",
   "execution_count": 39,
   "metadata": {},
   "outputs": [
    {
     "name": "stdout",
     "output_type": "stream",
     "text": [
      "Processing 4325 + 543\n",
      "Processing 43 + 5\n",
      "Processing 5 + 345\n",
      "Processing 43 + 43\n",
      "Processing 543 + 5\n",
      "Processing 435 + 543\n"
     ]
    }
   ],
   "source": []
  }
 ],
 "metadata": {
  "kernelspec": {
   "display_name": "env",
   "language": "python",
   "name": "python3"
  },
  "language_info": {
   "codemirror_mode": {
    "name": "ipython",
    "version": 3
   },
   "file_extension": ".py",
   "mimetype": "text/x-python",
   "name": "python",
   "nbconvert_exporter": "python",
   "pygments_lexer": "ipython3",
   "version": "3.11.5"
  },
  "orig_nbformat": 4
 },
 "nbformat": 4,
 "nbformat_minor": 2
}
